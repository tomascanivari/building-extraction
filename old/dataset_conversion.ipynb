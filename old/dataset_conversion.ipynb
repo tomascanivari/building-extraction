{
 "cells": [
  {
   "cell_type": "code",
   "execution_count": null,
   "id": "91cba129",
   "metadata": {},
   "outputs": [],
   "source": [
    "# Polygon -> Instance Segmentation Masks\n",
    "masks = [sv.polygon_to_mask(p,(width,height)) for p in polygons] \n",
    "mask_polygon_counter += len(masks) \n",
    "\n",
    "polygons = [sv.mask_to_polygons(m) for m in masks] \n",
    "mask_read_polygon_counter += len(polygons)"
   ]
  }
 ],
 "metadata": {
  "kernelspec": {
   "display_name": "BuildingEnv",
   "language": "python",
   "name": "building_env"
  },
  "language_info": {
   "codemirror_mode": {
    "name": "ipython",
    "version": 3
   },
   "file_extension": ".py",
   "mimetype": "text/x-python",
   "name": "python",
   "nbconvert_exporter": "python",
   "pygments_lexer": "ipython3",
   "version": "3.10.12"
  }
 },
 "nbformat": 4,
 "nbformat_minor": 5
}
